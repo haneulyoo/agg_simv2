{
 "cells": [
  {
   "cell_type": "markdown",
   "metadata": {},
   "source": [
    "# Growth Rate following Stress Simulation"
   ]
  },
  {
   "cell_type": "code",
   "execution_count": 126,
   "metadata": {
    "collapsed": false
   },
   "outputs": [],
   "source": [
    "import numpy as np\n",
    "import matplotlib.pyplot as plt\n",
    "import seaborn as sns\n",
    "sns.set_style('ticks')"
   ]
  },
  {
   "cell_type": "markdown",
   "metadata": {},
   "source": [
    "Q1: What % difference in growth rate is necessary to detect a change following stress in 120 min?\n",
    "\n",
    "**Assumptions:**\n",
    "\n",
    "1. total number of cells is functionally infinite compared to sample being drawn\n",
    "2. sample size = 10000\n",
    "3. equal starting conditions pre-stress\n",
    "4. growth rate following 42&deg;C, 20 min stress is roughly half that of max growth rate in rich media under optimal temperatures (for first pass growth rates will not vary in time).\n",
    "\n",
    "_[5. Percent error rate of detection/classification is XX]_"
   ]
  },
  {
   "cell_type": "code",
   "execution_count": 154,
   "metadata": {
    "collapsed": false
   },
   "outputs": [
    {
     "name": "stdout",
     "output_type": "stream",
     "text": [
      "6\n",
      "(6, 121)\n"
     ]
    }
   ],
   "source": [
    "# Use this parameter to set the time limits of the experiment (in min!)\n",
    "recovery_time = 120\n",
    "\n",
    "t = np.linspace(0,recovery_time,recovery_time+1)\n",
    "max_growth = np.log(2) / 100\n",
    "post_stress_growth = max_growth / 2\n",
    "\n",
    "percent_differences = np.array([0.0001, 0.001, 0.01, 0.1, .2, .5])\n",
    "#percent_differences = np.array([.5])\n",
    "ss = post_stress_growth - (post_stress_growth - post_stress_growth*percent_differences)\n",
    "\n",
    "# This makes an array of arrays - switch to one array with a row for each condition?\n",
    "predicted_ratio = np.zeros((len(ss), len(t)))\n",
    "\n",
    "print(len(ss))\n",
    "print(np.shape(predicted_ratio))"
   ]
  },
  {
   "cell_type": "code",
   "execution_count": 161,
   "metadata": {
    "collapsed": false
   },
   "outputs": [
    {
     "data": {
      "image/png": "[encoded data removed]",
      "text/plain": [
       "<matplotlib.figure.Figure at 0x119007128>"
      ]
     },
     "metadata": {},
     "output_type": "display_data"
    }
   ],
   "source": [
    "for i, s in enumerate(ss):\n",
    "    predicted_ratio[i] = np.exp(s*t)\n",
    "\n",
    "# Convert from odds space to frequency space using r / (1 + r)\n",
    "predicted_freq = predicted_ratio/(predicted_ratio+1)\n",
    "\n",
    "\n",
    "f,ax = plt.subplots(figsize = (6,4))\n",
    "for i, s in enumerate(predicted_ratio):\n",
    "    ax.plot(t, s, label=str(percent_differences[i]))\n",
    "\n",
    "ax.set_ylim((.9,1.3))\n",
    "ax.set_yscale('log')\n",
    "ax.legend(loc = 'upper left')\n",
    "plt.show()"
   ]
  },
  {
   "cell_type": "markdown",
   "metadata": {},
   "source": [
    "Now lets add some sampling noise - we'll simulate this by drawing from a binomial distribution with frequency parameter equal to the frequencies given by the above."
   ]
  },
  {
   "cell_type": "code",
   "execution_count": 162,
   "metadata": {
    "collapsed": false
   },
   "outputs": [],
   "source": [
    "timepoints = [30, 60, 90, 120]\n",
    "sample_size = 10000\n",
    "\n",
    "measured_ratios = []\n",
    "for i, s in enumerate(ss):\n",
    "    ratios = []\n",
    "    for time in timepoints:\n",
    "        p = predicted_freq[i][time]\n",
    "        sampled_wt = np.asscalar(np.random.binomial(sample_size, p, 1))\n",
    "        #print(sampled_wt)\n",
    "        measured_ratio = sampled_wt / (sample_size - sampled_wt)\n",
    "        #print(measured_ratio)\n",
    "        ratios.append(measured_ratio)\n",
    "    measured_ratios.append(ratios)"
   ]
  },
  {
   "cell_type": "code",
   "execution_count": 163,
   "metadata": {
    "collapsed": false
   },
   "outputs": [],
   "source": [
    "for i in range(len(measured_ratios)):\n",
    "    ax.scatter(timepoints, measured_ratios[i])\n",
    "    \n",
    "plt.show()"
   ]
  },
  {
   "cell_type": "code",
   "execution_count": null,
   "metadata": {
    "collapsed": true
   },
   "outputs": [],
   "source": []
  }
 ],
 "metadata": {
  "anaconda-cloud": {},
  "kernelspec": {
   "display_name": "Python [conda root]",
   "language": "python",
   "name": "conda-root-py"
  },
  "language_info": {
   "codemirror_mode": {
    "name": "ipython",
    "version": 3
   },
   "file_extension": ".py",
   "mimetype": "text/x-python",
   "name": "python",
   "nbconvert_exporter": "python",
   "pygments_lexer": "ipython3",
   "version": "3.5.2"
  }
 },
 "nbformat": 4,
 "nbformat_minor": 1
}
