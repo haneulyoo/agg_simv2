{
 "cells": [
  {
   "cell_type": "markdown",
   "metadata": {},
   "source": [
    "# Growth Rate following Stress Simulation"
   ]
  },
  {
   "cell_type": "code",
   "execution_count": 1,
   "metadata": {
    "collapsed": true
   },
   "outputs": [],
   "source": [
    "import numpy as np\n",
    "import matplotlib.pyplot as plt"
   ]
  },
  {
   "cell_type": "markdown",
   "metadata": {},
   "source": [
    "Q1: What % difference in growth rate is necessary to detect a change following stress in 120 min?\n",
    "\n",
    "**Assumptions:**\n",
    "\n",
    "1. total number of cells is functionally infinite compared to sample being drawn\n",
    "2. sample size = 10000\n",
    "3. equal starting conditions pre-stress\n",
    "4. growth rate following 42&deg;C, 20 min stress is roughly half that of max growth rate in rich media under optimal temperatures (for first pass growth rates will not vary in time).\n",
    "\n",
    "_[5. Percent error rate of detection/classification is XX]_"
   ]
  },
  {
   "cell_type": "code",
   "execution_count": 55,
   "metadata": {
    "collapsed": false
   },
   "outputs": [
    {
     "data": {
      "text/plain": [
       "array([  3.46573590e-07,   3.46573590e-06,   3.46573590e-05,\n",
       "         3.46573590e-04,   6.93147181e-04,   1.73286795e-03])"
      ]
     },
     "execution_count": 55,
     "metadata": {},
     "output_type": "execute_result"
    }
   ],
   "source": [
    "t = np.linspace(1,120,120)\n",
    "max_growth = np.log(2) / 100\n",
    "post_stress_growth = max_growth / 2\n",
    "\n",
    "percent_differences = np.array([0.0001, 0.001, 0.01, 0.1, .2, .5])\n",
    "ss = post_stress_growth - (post_stress_growth - post_stress_growth*percent_differences)\n",
    "\n",
    "# This makes an array of arrays - switch to one array with a row for each condition?\n",
    "predicted_ratio = np.zeros((len(ss), len(t)))\n",
    "\n",
    "ss"
   ]
  },
  {
   "cell_type": "code",
   "execution_count": 68,
   "metadata": {
    "collapsed": false
   },
   "outputs": [
    {
     "data": {
      "image/png": "[encoded data removed]",
      "text/plain": [
       "<matplotlib.figure.Figure at 0x10d0b1e48>"
      ]
     },
     "metadata": {},
     "output_type": "display_data"
    }
   ],
   "source": [
    "for i, s in enumerate(ss):\n",
    "    predicted_ratio[i] = np.exp(s*t)\n",
    "    \n",
    "for s in range(len(predicted_ratio)):\n",
    "    plt.plot(t, predicted_ratio[s])\n",
    "\n",
    "\n",
    "plt.yscale('log')\n",
    "plt.ylim((.8,1.5))\n",
    "plt.show()"
   ]
  },
  {
   "cell_type": "code",
   "execution_count": null,
   "metadata": {
    "collapsed": true
   },
   "outputs": [],
   "source": []
  }
 ],
 "metadata": {
  "anaconda-cloud": {},
  "kernelspec": {
   "display_name": "Python [conda root]",
   "language": "python",
   "name": "conda-root-py"
  },
  "language_info": {
   "codemirror_mode": {
    "name": "ipython",
    "version": 3
   },
   "file_extension": ".py",
   "mimetype": "text/x-python",
   "name": "python",
   "nbconvert_exporter": "python",
   "pygments_lexer": "ipython3",
   "version": "3.5.2"
  }
 },
 "nbformat": 4,
 "nbformat_minor": 1
}
