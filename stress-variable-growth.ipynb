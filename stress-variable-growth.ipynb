{
 "cells": [
  {
   "cell_type": "markdown",
   "metadata": {},
   "source": [
    "# Varying growth rate simulations\n",
    "\n",
    "As before, we model our cells with exponential growth. However, we now allow the growth rate to change with time. We still represent our growth with the following model:\n",
    "\n",
    "\\begin{equation}\n",
    "\\ln\\left(\\frac{n_a(t)}{n_b(t)}\\right) = \\ln R + (r_a - r_b)\n",
    "\\end{equation}\n",
    "\n",
    "Where $R$ is the initial mixing ratio of the cells, $r_a$ is the growth rate of population a, and $r_b$ is the growth rate of population b.\n",
    "\n",
    "Earlier, we neglected the mixing ratio, and assumed that the difference between the growth rates was constant. This amounts to fitting a straight line to the plot of the log ratio vs time. We now relax this assumption, and assume that the growth rate can change in time. However, we will still assume (because we control this by design) that the 'reference' growth rate will not change (as these cells are undergoing log growth with no stress), such that regardless of variation in the maximal growth rate, the difference calculated in each experiment represents changes in the growth rate of the stressed population.\n",
    "\n",
    "\n",
    "This changes our equation to:\n",
    "\n",
    "\\begin{equation}\n",
    "\\ln\\left(\\frac{n_a(t)}{n_b(t)}\\right) - \\ln R  = (r_a - r_b) = s_{ba}(t)\n",
    "\\end{equation}\n",
    "\n",
    "The goal of this notebook is to explore some non-parametric methods of inferring the function $s_{ba}(t)$. Preferably these methods will also include the errors in inference, such that changes in fitness across different stress conditions can be meaningfully compared."
   ]
  },
  {
   "cell_type": "code",
   "execution_count": null,
   "metadata": {
    "collapsed": true
   },
   "outputs": [],
   "source": []
  }
 ],
 "metadata": {
  "kernelspec": {
   "display_name": "Python [conda root]",
   "language": "python",
   "name": "conda-root-py"
  },
  "language_info": {
   "codemirror_mode": {
    "name": "ipython",
    "version": 3
   },
   "file_extension": ".py",
   "mimetype": "text/x-python",
   "name": "python",
   "nbconvert_exporter": "python",
   "pygments_lexer": "ipython3",
   "version": "3.5.3"
  }
 },
 "nbformat": 4,
 "nbformat_minor": 2
}
