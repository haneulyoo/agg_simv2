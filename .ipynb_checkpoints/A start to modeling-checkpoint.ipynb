{
 "cells": [
  {
   "cell_type": "markdown",
   "metadata": {},
   "source": [
    "#Basic Modeling\n",
    "\n",
    "[tl;dr, show me some plots]\n",
    "\n",
    "We start with the assumption that there are two species in our system -> an aggregation-prone species A and another species which can disaggregate A catalytically, C. Regardless of the more specific details about the mode of aggregation, we make the following assumptions: that the total amount of A remains constant, and that C is produced and degraded throughout the simulation."
   ]
  },
  {
   "cell_type": "code",
   "execution_count": null,
   "metadata": {
    "collapsed": true
   },
   "outputs": [],
   "source": []
  }
 ],
 "metadata": {
  "kernelspec": {
   "display_name": "Python 2",
   "language": "python",
   "name": "python2"
  },
  "language_info": {
   "codemirror_mode": {
    "name": "ipython",
    "version": 2
   },
   "file_extension": ".py",
   "mimetype": "text/x-python",
   "name": "python",
   "nbconvert_exporter": "python",
   "pygments_lexer": "ipython2",
   "version": "2.7.10"
  }
 },
 "nbformat": 4,
 "nbformat_minor": 0
}
