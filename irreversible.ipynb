{
 "cells": [
  {
   "cell_type": "markdown",
   "metadata": {},
   "source": [
    "# Analytical Solutions to the case of Irreversible aggregation\n",
    "\n",
    "The goal is first explore the case of irreversible aggregation\n",
    "\n",
    "## General\n",
    "\n",
    "We want to describe the time-evolution of a system of particles which have a tendency to aggregate and explicitly account for clusters of all sizes. In all cases we describe the collision between a cluster of size i and a cluster of size j (where i and j are integer quantites - the number of monomers for example) to produce a cluster of size k = i + j. That is:\n",
    "\n",
    "\\begin{equation}\n",
    "    A_i + A_j \\xrightarrow[]{K_{ij}} A_{i+j}\n",
    "\\end{equation}\n",
    "\n",
    "By the laws of mass action we expect the rate of change of the concentration of clusters of a particular size to be equal to the additive rates of creation and destruction. Creation can be accounted for by any combination of i and j that equal k, and destruction is in the reaction of a k-mer with a cluster of any other size (remember that this is irreversible aggregation, so clusters cannot fall apart). These interactions can be captured by the following master equation:\n",
    "\n",
    "\\begin{equation}\n",
    "    \\frac{dc_k}{dt} = \\frac{1}{2}\\sum_{i,j}K_{ij}c_i(t)c_j(t)[\\delta_{i+j,k} - \\delta_{i,k} - \\delta_{j,k}]\n",
    "\\end{equation}\n",
    "\n",
    "where $\\delta$ is 1 when $i$, $j$, or $i+j = k$, and 0 otherwise. $K_{ij}$ is the aggregation kernel, and it describes the rates of aggregation of clusters of size i and j. It is symmetric, meaning that $K_{ij} = K_{ji}$.\n",
    "\n",
    "We can explicitly break up this equation into creation and destruction terms in the following manner:\n",
    "\n",
    "\\begin{equation}\n",
    "    \\frac{dc_k}{dt} = \\frac{1}{2}\\sum_{j=1}^{k-1}K_{j,k-j}c_j(t)c_{k-j}(t) - c_k(t)\\sum_{i=1}^{\\infty}K_{ik}c_{i}(t)\n",
    "\\end{equation}\n",
    "\n",
    "## Constant Aggregation Rate\n",
    "\n",
    "The master equation above is only analytically tractable for simple kernels. We first consider the case of constant aggregation rates - that is $K_{i,j}$ is the same for all i,j. In this case the master equations are:\n",
    "\n",
    "\\begin{equation}\n",
    "    \\frac{dc_k}{dt} = \\sum_{i+j=k}\n",
    "\\end{equation}"
   ]
  },
  {
   "cell_type": "code",
   "execution_count": null,
   "metadata": {
    "collapsed": true
   },
   "outputs": [],
   "source": []
  }
 ],
 "metadata": {
  "kernelspec": {
   "display_name": "Python [conda root]",
   "language": "python",
   "name": "conda-root-py"
  },
  "language_info": {
   "codemirror_mode": {
    "name": "ipython",
    "version": 3
   },
   "file_extension": ".py",
   "mimetype": "text/x-python",
   "name": "python",
   "nbconvert_exporter": "python",
   "pygments_lexer": "ipython3",
   "version": "3.5.2"
  }
 },
 "nbformat": 4,
 "nbformat_minor": 1
}
